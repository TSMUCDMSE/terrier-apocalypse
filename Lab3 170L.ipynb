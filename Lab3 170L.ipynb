{
 "cells": [
  {
   "cell_type": "code",
   "execution_count": 819,
   "metadata": {},
   "outputs": [],
   "source": [
    "import numpy as np\n",
    "import matplotlib.pyplot as plt\n",
    "import pandas as pd"
   ]
  },
  {
   "cell_type": "markdown",
   "metadata": {},
   "source": [
    "#     Part 1"
   ]
  },
  {
   "cell_type": "markdown",
   "metadata": {},
   "source": [
    "###   Indoor-Light"
   ]
  },
  {
   "cell_type": "code",
   "execution_count": 820,
   "metadata": {},
   "outputs": [
    {
     "name": "stdout",
     "output_type": "stream",
     "text": [
      "[[-3.00e+00 -2.89e-04]\n",
      " [-2.98e+00 -2.89e-04]\n",
      " [-2.96e+00 -2.89e-04]\n",
      " [-2.94e+00 -2.90e-04]\n",
      " [-2.92e+00 -2.90e-04]\n",
      " [-2.90e+00 -2.89e-04]\n",
      " [-2.88e+00 -2.89e-04]\n",
      " [-2.86e+00 -2.89e-04]\n",
      " [-2.84e+00 -2.89e-04]\n",
      " [-2.82e+00 -2.89e-04]\n",
      " [-2.80e+00 -2.89e-04]\n",
      " [-2.78e+00 -2.89e-04]\n",
      " [-2.76e+00 -2.89e-04]\n",
      " [-2.74e+00 -2.88e-04]\n",
      " [-2.72e+00 -2.88e-04]\n",
      " [-2.70e+00 -2.88e-04]\n",
      " [-2.68e+00 -2.88e-04]\n",
      " [-2.66e+00 -2.88e-04]\n",
      " [-2.64e+00 -2.88e-04]\n",
      " [-2.62e+00 -2.88e-04]\n",
      " [-2.60e+00 -2.88e-04]\n",
      " [-2.58e+00 -2.87e-04]\n",
      " [-2.56e+00 -2.87e-04]\n",
      " [-2.54e+00 -2.87e-04]\n",
      " [-2.52e+00 -2.87e-04]\n",
      " [-2.50e+00 -2.87e-04]\n",
      " [-2.48e+00 -2.87e-04]\n",
      " [-2.46e+00 -2.87e-04]\n",
      " [-2.44e+00 -2.87e-04]\n",
      " [-2.42e+00 -2.86e-04]\n",
      " [-2.40e+00 -2.86e-04]\n",
      " [-2.38e+00 -2.86e-04]\n",
      " [-2.36e+00 -2.86e-04]\n",
      " [-2.34e+00 -2.86e-04]\n",
      " [-2.32e+00 -2.86e-04]\n",
      " [-2.30e+00 -2.86e-04]\n",
      " [-2.28e+00 -2.86e-04]\n",
      " [-2.26e+00 -2.85e-04]\n",
      " [-2.24e+00 -2.85e-04]\n",
      " [-2.22e+00 -2.85e-04]\n",
      " [-2.20e+00 -2.85e-04]\n",
      " [-2.18e+00 -2.85e-04]\n",
      " [-2.16e+00 -2.85e-04]\n",
      " [-2.14e+00 -2.85e-04]\n",
      " [-2.12e+00 -2.85e-04]\n",
      " [-2.10e+00 -2.85e-04]\n",
      " [-2.08e+00 -2.84e-04]\n",
      " [-2.06e+00 -2.84e-04]\n",
      " [-2.04e+00 -2.84e-04]\n",
      " [-2.02e+00 -2.84e-04]\n",
      " [-2.00e+00 -2.84e-04]\n",
      " [-1.98e+00 -2.83e-04]\n",
      " [-1.96e+00 -2.83e-04]\n",
      " [-1.94e+00 -2.83e-04]\n",
      " [-1.92e+00 -2.83e-04]\n",
      " [-1.90e+00 -2.83e-04]\n",
      " [-1.88e+00 -2.83e-04]\n",
      " [-1.86e+00 -2.83e-04]\n",
      " [-1.84e+00 -2.83e-04]\n",
      " [-1.82e+00 -2.82e-04]\n",
      " [-1.80e+00 -2.82e-04]\n",
      " [-1.78e+00 -2.82e-04]\n",
      " [-1.76e+00 -2.82e-04]\n",
      " [-1.74e+00 -2.82e-04]\n",
      " [-1.72e+00 -2.82e-04]\n",
      " [-1.70e+00 -2.82e-04]\n",
      " [-1.68e+00 -2.82e-04]\n",
      " [-1.66e+00 -2.81e-04]\n",
      " [-1.64e+00 -2.81e-04]\n",
      " [-1.62e+00 -2.81e-04]\n",
      " [-1.60e+00 -2.81e-04]\n",
      " [-1.58e+00 -2.81e-04]\n",
      " [-1.56e+00 -2.81e-04]\n",
      " [-1.54e+00 -2.81e-04]\n",
      " [-1.52e+00 -2.80e-04]\n",
      " [-1.50e+00 -2.80e-04]\n",
      " [-1.48e+00 -2.80e-04]\n",
      " [-1.46e+00 -2.80e-04]\n",
      " [-1.44e+00 -2.80e-04]\n",
      " [-1.42e+00 -2.80e-04]\n",
      " [-1.40e+00 -2.79e-04]\n",
      " [-1.38e+00 -2.79e-04]\n",
      " [-1.36e+00 -2.79e-04]\n",
      " [-1.34e+00 -2.79e-04]\n",
      " [-1.32e+00 -2.79e-04]\n",
      " [-1.30e+00 -2.79e-04]\n",
      " [-1.28e+00 -2.79e-04]\n",
      " [-1.26e+00 -2.78e-04]\n",
      " [-1.24e+00 -2.78e-04]\n",
      " [-1.22e+00 -2.78e-04]\n",
      " [-1.20e+00 -2.78e-04]\n",
      " [-1.18e+00 -2.78e-04]\n",
      " [-1.16e+00 -2.78e-04]\n",
      " [-1.14e+00 -2.77e-04]\n",
      " [-1.12e+00 -2.77e-04]\n",
      " [-1.10e+00 -2.77e-04]\n",
      " [-1.08e+00 -2.77e-04]\n",
      " [-1.06e+00 -2.77e-04]\n",
      " [-1.04e+00 -2.77e-04]\n",
      " [-1.02e+00 -2.76e-04]\n",
      " [-1.00e+00 -2.76e-04]\n",
      " [-9.80e-01 -2.76e-04]\n",
      " [-9.60e-01 -2.76e-04]\n",
      " [-9.40e-01 -2.76e-04]\n",
      " [-9.20e-01 -2.76e-04]\n",
      " [-9.00e-01 -2.75e-04]\n",
      " [-8.80e-01 -2.75e-04]\n",
      " [-8.60e-01 -2.75e-04]\n",
      " [-8.40e-01 -2.75e-04]\n",
      " [-8.20e-01 -2.75e-04]\n",
      " [-8.00e-01 -2.74e-04]\n",
      " [-7.80e-01 -2.74e-04]\n",
      " [-7.60e-01 -2.74e-04]\n",
      " [-7.40e-01 -2.74e-04]\n",
      " [-7.20e-01 -2.74e-04]\n",
      " [-7.00e-01 -2.73e-04]\n",
      " [-6.80e-01 -2.73e-04]\n",
      " [-6.60e-01 -2.73e-04]\n",
      " [-6.40e-01 -2.73e-04]\n",
      " [-6.20e-01 -2.73e-04]\n",
      " [-6.00e-01 -2.72e-04]\n",
      " [-5.80e-01 -2.72e-04]\n",
      " [-5.60e-01 -2.72e-04]\n",
      " [-5.40e-01 -2.72e-04]\n",
      " [-5.20e-01 -2.71e-04]\n",
      " [-5.00e-01 -2.71e-04]\n",
      " [-4.80e-01 -2.71e-04]\n",
      " [-4.60e-01 -2.71e-04]\n",
      " [-4.40e-01 -2.70e-04]\n",
      " [-4.20e-01 -2.70e-04]\n",
      " [-4.00e-01 -2.70e-04]\n",
      " [-3.80e-01 -2.70e-04]\n",
      " [-3.60e-01 -2.69e-04]\n",
      " [-3.40e-01 -2.69e-04]\n",
      " [-3.20e-01 -2.69e-04]\n",
      " [-3.00e-01 -2.68e-04]\n",
      " [-2.80e-01 -2.68e-04]\n",
      " [-2.60e-01 -2.68e-04]\n",
      " [-2.40e-01 -2.68e-04]\n",
      " [-2.20e-01 -2.67e-04]\n",
      " [-2.00e-01 -2.67e-04]\n",
      " [-1.80e-01 -2.67e-04]\n",
      " [-1.60e-01 -2.66e-04]\n",
      " [-1.40e-01 -2.66e-04]\n",
      " [-1.20e-01 -2.66e-04]\n",
      " [-1.00e-01 -2.65e-04]\n",
      " [-8.00e-02 -2.65e-04]\n",
      " [-6.00e-02 -2.65e-04]\n",
      " [-4.00e-02 -2.64e-04]\n",
      " [-2.00e-02 -2.64e-04]\n",
      " [ 0.00e+00 -2.64e-04]\n",
      " [ 2.00e-02 -2.63e-04]\n",
      " [ 4.00e-02 -2.63e-04]\n",
      " [ 6.00e-02 -2.62e-04]\n",
      " [ 8.00e-02 -2.62e-04]\n",
      " [ 1.00e-01 -2.62e-04]\n",
      " [ 1.20e-01 -2.61e-04]\n",
      " [ 1.40e-01 -2.61e-04]\n",
      " [ 1.60e-01 -2.60e-04]\n",
      " [ 1.80e-01 -2.60e-04]\n",
      " [ 2.00e-01 -2.59e-04]\n",
      " [ 2.20e-01 -2.59e-04]\n",
      " [ 2.40e-01 -2.58e-04]\n",
      " [ 2.60e-01 -2.58e-04]\n",
      " [ 2.80e-01 -2.57e-04]\n",
      " [ 3.00e-01 -2.56e-04]\n",
      " [ 3.20e-01 -2.56e-04]\n",
      " [ 3.40e-01 -2.55e-04]\n",
      " [ 3.60e-01 -2.55e-04]\n",
      " [ 3.80e-01 -2.54e-04]\n",
      " [ 4.00e-01 -2.53e-04]\n",
      " [ 4.20e-01 -2.53e-04]\n",
      " [ 4.40e-01 -2.52e-04]\n",
      " [ 4.60e-01 -2.51e-04]\n",
      " [ 4.80e-01 -2.50e-04]\n",
      " [ 5.00e-01 -2.50e-04]\n",
      " [ 5.20e-01 -2.49e-04]\n",
      " [ 5.40e-01 -2.48e-04]\n",
      " [ 5.60e-01 -2.47e-04]\n",
      " [ 5.80e-01 -2.46e-04]\n",
      " [ 6.00e-01 -2.45e-04]\n",
      " [ 6.20e-01 -2.44e-04]\n",
      " [ 6.40e-01 -2.44e-04]\n",
      " [ 6.60e-01 -2.43e-04]\n",
      " [ 6.80e-01 -2.42e-04]\n",
      " [ 7.00e-01 -2.40e-04]\n",
      " [ 7.20e-01 -2.39e-04]\n",
      " [ 7.40e-01 -2.38e-04]\n",
      " [ 7.60e-01 -2.37e-04]\n",
      " [ 7.80e-01 -2.36e-04]\n",
      " [ 8.00e-01 -2.35e-04]\n",
      " [ 8.20e-01 -2.34e-04]\n",
      " [ 8.40e-01 -2.32e-04]\n",
      " [ 8.60e-01 -2.31e-04]\n",
      " [ 8.80e-01 -2.30e-04]\n",
      " [ 9.00e-01 -2.28e-04]\n",
      " [ 9.20e-01 -2.27e-04]\n",
      " [ 9.40e-01 -2.25e-04]\n",
      " [ 9.60e-01 -2.24e-04]\n",
      " [ 9.80e-01 -2.22e-04]\n",
      " [ 1.00e+00 -2.21e-04]\n",
      " [ 1.02e+00 -2.19e-04]\n",
      " [ 1.04e+00 -2.17e-04]\n",
      " [ 1.06e+00 -2.15e-04]\n",
      " [ 1.08e+00 -2.14e-04]\n",
      " [ 1.10e+00 -2.12e-04]\n",
      " [ 1.12e+00 -2.10e-04]\n",
      " [ 1.14e+00 -2.08e-04]\n",
      " [ 1.16e+00 -2.06e-04]\n",
      " [ 1.18e+00 -2.03e-04]\n",
      " [ 1.20e+00 -2.01e-04]\n",
      " [ 1.22e+00 -1.99e-04]\n",
      " [ 1.24e+00 -1.97e-04]\n",
      " [ 1.26e+00 -1.94e-04]\n",
      " [ 1.28e+00 -1.92e-04]\n",
      " [ 1.30e+00 -1.89e-04]\n",
      " [ 1.32e+00 -1.87e-04]\n",
      " [ 1.34e+00 -1.84e-04]\n",
      " [ 1.36e+00 -1.81e-04]\n",
      " [ 1.38e+00 -1.78e-04]\n",
      " [ 1.40e+00 -1.75e-04]\n",
      " [ 1.42e+00 -1.72e-04]\n",
      " [ 1.44e+00 -1.69e-04]\n",
      " [ 1.46e+00 -1.66e-04]\n",
      " [ 1.48e+00 -1.63e-04]\n",
      " [ 1.50e+00 -1.60e-04]\n",
      " [ 1.52e+00 -1.56e-04]\n",
      " [ 1.54e+00 -1.53e-04]\n",
      " [ 1.56e+00 -1.49e-04]\n",
      " [ 1.58e+00 -1.45e-04]\n",
      " [ 1.60e+00 -1.41e-04]\n",
      " [ 1.62e+00 -1.37e-04]\n",
      " [ 1.64e+00 -1.33e-04]\n",
      " [ 1.66e+00 -1.29e-04]\n",
      " [ 1.68e+00 -1.25e-04]\n",
      " [ 1.70e+00 -1.20e-04]\n",
      " [ 1.72e+00 -1.16e-04]\n",
      " [ 1.74e+00 -1.11e-04]\n",
      " [ 1.76e+00 -1.06e-04]\n",
      " [ 1.78e+00 -1.01e-04]\n",
      " [ 1.80e+00 -9.66e-05]\n",
      " [ 1.82e+00 -9.14e-05]\n",
      " [ 1.84e+00 -8.63e-05]\n",
      " [ 1.86e+00 -8.11e-05]\n",
      " [ 1.88e+00 -7.58e-05]\n",
      " [ 1.90e+00 -7.04e-05]\n",
      " [ 1.92e+00 -6.49e-05]\n",
      " [ 1.94e+00 -5.93e-05]\n",
      " [ 1.96e+00 -5.38e-05]\n",
      " [ 1.98e+00 -4.82e-05]\n",
      " [ 2.00e+00 -4.27e-05]\n",
      " [ 2.02e+00 -3.73e-05]\n",
      " [ 2.04e+00 -3.19e-05]\n",
      " [ 2.06e+00 -2.68e-05]\n",
      " [ 2.08e+00 -2.18e-05]\n",
      " [ 2.10e+00 -1.73e-05]\n",
      " [ 2.12e+00 -1.32e-05]\n",
      " [ 2.14e+00 -9.68e-06]\n",
      " [ 2.16e+00 -6.79e-06]\n",
      " [ 2.18e+00 -4.55e-06]\n",
      " [ 2.20e+00 -2.94e-06]\n",
      " [ 2.22e+00 -1.83e-06]\n",
      " [ 2.24e+00 -1.12e-06]\n",
      " [ 2.26e+00 -6.84e-07]\n",
      " [ 2.28e+00 -4.17e-07]\n",
      " [ 2.30e+00 -2.53e-07]\n",
      " [ 2.32e+00 -1.55e-07]\n",
      " [ 2.34e+00 -9.55e-08]\n",
      " [ 2.36e+00 -5.88e-08]\n",
      " [ 2.38e+00 -3.64e-08]\n",
      " [ 2.40e+00 -2.25e-08]\n",
      " [ 2.42e+00 -1.38e-08]\n",
      " [ 2.44e+00 -8.37e-09]\n",
      " [ 2.46e+00 -4.91e-09]\n",
      " [ 2.48e+00 -2.74e-09]\n",
      " [ 2.50e+00 -1.35e-09]\n",
      " [ 2.52e+00 -4.74e-10]\n",
      " [ 2.54e+00  8.10e-11]\n",
      " [ 2.56e+00  4.43e-10]\n",
      " [ 2.58e+00  6.81e-10]\n",
      " [ 2.60e+00  8.45e-10]\n",
      " [ 2.62e+00  9.58e-10]\n",
      " [ 2.64e+00  1.04e-09]\n",
      " [ 2.66e+00  1.10e-09]\n",
      " [ 2.68e+00  1.15e-09]\n",
      " [ 2.70e+00  1.20e-09]\n",
      " [ 2.72e+00  1.23e-09]\n",
      " [ 2.74e+00  1.26e-09]\n",
      " [ 2.76e+00  1.29e-09]\n",
      " [ 2.78e+00  1.31e-09]\n",
      " [ 2.80e+00  1.34e-09]\n",
      " [ 2.82e+00  1.36e-09]\n",
      " [ 2.84e+00  1.37e-09]\n",
      " [ 2.86e+00  1.39e-09]\n",
      " [ 2.88e+00  1.41e-09]\n",
      " [ 2.90e+00  1.43e-09]\n",
      " [ 2.92e+00  1.44e-09]\n",
      " [ 2.94e+00  1.46e-09]\n",
      " [ 2.96e+00  1.48e-09]\n",
      " [ 2.98e+00  1.49e-09]\n",
      " [ 3.00e+00  1.50e-09]]\n"
     ]
    }
   ],
   "source": [
    "pvidL = np.loadtxt('PV_indoor_light.csv',delimiter=',') #col 1 is volt  col 2 is current\n",
    "print(pvidL);"
   ]
  },
  {
   "cell_type": "code",
   "execution_count": 821,
   "metadata": {},
   "outputs": [
    {
     "name": "stdout",
     "output_type": "stream",
     "text": [
      "[-3.   -2.98 -2.96 -2.94 -2.92 -2.9  -2.88 -2.86 -2.84 -2.82 -2.8  -2.78\n",
      " -2.76 -2.74 -2.72 -2.7  -2.68 -2.66 -2.64 -2.62 -2.6  -2.58 -2.56 -2.54\n",
      " -2.52 -2.5  -2.48 -2.46 -2.44 -2.42 -2.4  -2.38 -2.36 -2.34 -2.32 -2.3\n",
      " -2.28 -2.26 -2.24 -2.22 -2.2  -2.18 -2.16 -2.14 -2.12 -2.1  -2.08 -2.06\n",
      " -2.04 -2.02 -2.   -1.98 -1.96 -1.94 -1.92 -1.9  -1.88 -1.86 -1.84 -1.82\n",
      " -1.8  -1.78 -1.76 -1.74 -1.72 -1.7  -1.68 -1.66 -1.64 -1.62 -1.6  -1.58\n",
      " -1.56 -1.54 -1.52 -1.5  -1.48 -1.46 -1.44 -1.42 -1.4  -1.38 -1.36 -1.34\n",
      " -1.32 -1.3  -1.28 -1.26 -1.24 -1.22 -1.2  -1.18 -1.16 -1.14 -1.12 -1.1\n",
      " -1.08 -1.06 -1.04 -1.02 -1.   -0.98 -0.96 -0.94 -0.92 -0.9  -0.88 -0.86\n",
      " -0.84 -0.82 -0.8  -0.78 -0.76 -0.74 -0.72 -0.7  -0.68 -0.66 -0.64 -0.62\n",
      " -0.6  -0.58 -0.56 -0.54 -0.52 -0.5  -0.48 -0.46 -0.44 -0.42 -0.4  -0.38\n",
      " -0.36 -0.34 -0.32 -0.3  -0.28 -0.26 -0.24 -0.22 -0.2  -0.18 -0.16 -0.14\n",
      " -0.12 -0.1  -0.08 -0.06 -0.04 -0.02  0.    0.02  0.04  0.06  0.08  0.1\n",
      "  0.12  0.14  0.16  0.18  0.2   0.22  0.24  0.26  0.28  0.3   0.32  0.34\n",
      "  0.36  0.38  0.4   0.42  0.44  0.46  0.48  0.5   0.52  0.54  0.56  0.58\n",
      "  0.6   0.62  0.64  0.66  0.68  0.7   0.72  0.74  0.76  0.78  0.8   0.82\n",
      "  0.84  0.86  0.88  0.9   0.92  0.94  0.96  0.98  1.    1.02  1.04  1.06\n",
      "  1.08  1.1   1.12  1.14  1.16  1.18  1.2   1.22  1.24  1.26  1.28  1.3\n",
      "  1.32  1.34  1.36  1.38  1.4   1.42  1.44  1.46  1.48  1.5   1.52  1.54\n",
      "  1.56  1.58  1.6   1.62  1.64  1.66  1.68  1.7   1.72  1.74  1.76  1.78\n",
      "  1.8   1.82  1.84  1.86  1.88  1.9   1.92  1.94  1.96  1.98  2.    2.02\n",
      "  2.04  2.06  2.08  2.1   2.12  2.14  2.16  2.18  2.2   2.22  2.24  2.26\n",
      "  2.28  2.3   2.32  2.34  2.36  2.38  2.4   2.42  2.44  2.46  2.48  2.5\n",
      "  2.52  2.54  2.56  2.58  2.6   2.62  2.64  2.66  2.68  2.7   2.72  2.74\n",
      "  2.76  2.78  2.8   2.82  2.84  2.86  2.88  2.9   2.92  2.94  2.96  2.98\n",
      "  3.  ]\n"
     ]
    }
   ],
   "source": [
    "pvidL_V = pvidL[:,0]\n",
    "pvidL_C = pvidL[:,1]\n",
    "\n",
    "print(pvidL_V);"
   ]
  },
  {
   "cell_type": "code",
   "execution_count": 822,
   "metadata": {},
   "outputs": [],
   "source": [
    "pvid_singleA = 8.4   #single p-n junction area (cm^2)\n",
    "pvid_TotA = 84      #total active area (cm^2)\n",
    "pvid_TotA_m = 0.0084 #meter version"
   ]
  },
  {
   "cell_type": "code",
   "execution_count": 823,
   "metadata": {},
   "outputs": [],
   "source": [
    "pvidL_Jsingle = pvidL_C/pvid_singleA  #single pn current density\n",
    "pvidL_JTotA = pvidL_C/pvid_TotA_m      #total area current density "
   ]
  },
  {
   "cell_type": "code",
   "execution_count": 824,
   "metadata": {},
   "outputs": [
    {
     "name": "stdout",
     "output_type": "stream",
     "text": [
      "[[-3.00e+00 -2.89e-04]\n",
      " [-2.98e+00 -2.89e-04]\n",
      " [-2.96e+00 -2.89e-04]\n",
      " [-2.94e+00 -2.90e-04]\n",
      " [-2.92e+00 -2.90e-04]\n",
      " [-2.90e+00 -2.89e-04]\n",
      " [-2.88e+00 -2.89e-04]\n",
      " [-2.86e+00 -2.89e-04]\n",
      " [-2.84e+00 -2.89e-04]\n",
      " [-2.82e+00 -2.89e-04]\n",
      " [-2.80e+00 -2.89e-04]\n",
      " [-2.78e+00 -2.89e-04]\n",
      " [-2.76e+00 -2.89e-04]\n",
      " [-2.74e+00 -2.88e-04]\n",
      " [-2.72e+00 -2.88e-04]\n",
      " [-2.70e+00 -2.88e-04]\n",
      " [-2.68e+00 -2.88e-04]\n",
      " [-2.66e+00 -2.88e-04]\n",
      " [-2.64e+00 -2.88e-04]\n",
      " [-2.62e+00 -2.88e-04]\n",
      " [-2.60e+00 -2.88e-04]\n",
      " [-2.58e+00 -2.87e-04]\n",
      " [-2.56e+00 -2.87e-04]\n",
      " [-2.54e+00 -2.87e-04]\n",
      " [-2.52e+00 -2.87e-04]\n",
      " [-2.50e+00 -2.87e-04]\n",
      " [-2.48e+00 -2.87e-04]\n",
      " [-2.46e+00 -2.87e-04]\n",
      " [-2.44e+00 -2.87e-04]\n",
      " [-2.42e+00 -2.86e-04]\n",
      " [-2.40e+00 -2.86e-04]\n",
      " [-2.38e+00 -2.86e-04]\n",
      " [-2.36e+00 -2.86e-04]\n",
      " [-2.34e+00 -2.86e-04]\n",
      " [-2.32e+00 -2.86e-04]\n",
      " [-2.30e+00 -2.86e-04]\n",
      " [-2.28e+00 -2.86e-04]\n",
      " [-2.26e+00 -2.85e-04]\n",
      " [-2.24e+00 -2.85e-04]\n",
      " [-2.22e+00 -2.85e-04]\n",
      " [-2.20e+00 -2.85e-04]\n",
      " [-2.18e+00 -2.85e-04]\n",
      " [-2.16e+00 -2.85e-04]\n",
      " [-2.14e+00 -2.85e-04]\n",
      " [-2.12e+00 -2.85e-04]\n",
      " [-2.10e+00 -2.85e-04]\n",
      " [-2.08e+00 -2.84e-04]\n",
      " [-2.06e+00 -2.84e-04]\n",
      " [-2.04e+00 -2.84e-04]\n",
      " [-2.02e+00 -2.84e-04]\n",
      " [-2.00e+00 -2.84e-04]\n",
      " [-1.98e+00 -2.83e-04]\n",
      " [-1.96e+00 -2.83e-04]\n",
      " [-1.94e+00 -2.83e-04]\n",
      " [-1.92e+00 -2.83e-04]\n",
      " [-1.90e+00 -2.83e-04]\n",
      " [-1.88e+00 -2.83e-04]\n",
      " [-1.86e+00 -2.83e-04]\n",
      " [-1.84e+00 -2.83e-04]\n",
      " [-1.82e+00 -2.82e-04]\n",
      " [-1.80e+00 -2.82e-04]\n",
      " [-1.78e+00 -2.82e-04]\n",
      " [-1.76e+00 -2.82e-04]\n",
      " [-1.74e+00 -2.82e-04]\n",
      " [-1.72e+00 -2.82e-04]\n",
      " [-1.70e+00 -2.82e-04]\n",
      " [-1.68e+00 -2.82e-04]\n",
      " [-1.66e+00 -2.81e-04]\n",
      " [-1.64e+00 -2.81e-04]\n",
      " [-1.62e+00 -2.81e-04]\n",
      " [-1.60e+00 -2.81e-04]\n",
      " [-1.58e+00 -2.81e-04]\n",
      " [-1.56e+00 -2.81e-04]\n",
      " [-1.54e+00 -2.81e-04]\n",
      " [-1.52e+00 -2.80e-04]\n",
      " [-1.50e+00 -2.80e-04]\n",
      " [-1.48e+00 -2.80e-04]\n",
      " [-1.46e+00 -2.80e-04]\n",
      " [-1.44e+00 -2.80e-04]\n",
      " [-1.42e+00 -2.80e-04]\n",
      " [-1.40e+00 -2.79e-04]\n",
      " [-1.38e+00 -2.79e-04]\n",
      " [-1.36e+00 -2.79e-04]\n",
      " [-1.34e+00 -2.79e-04]\n",
      " [-1.32e+00 -2.79e-04]\n",
      " [-1.30e+00 -2.79e-04]\n",
      " [-1.28e+00 -2.79e-04]\n",
      " [-1.26e+00 -2.78e-04]\n",
      " [-1.24e+00 -2.78e-04]\n",
      " [-1.22e+00 -2.78e-04]\n",
      " [-1.20e+00 -2.78e-04]\n",
      " [-1.18e+00 -2.78e-04]\n",
      " [-1.16e+00 -2.78e-04]\n",
      " [-1.14e+00 -2.77e-04]\n",
      " [-1.12e+00 -2.77e-04]\n",
      " [-1.10e+00 -2.77e-04]\n",
      " [-1.08e+00 -2.77e-04]\n",
      " [-1.06e+00 -2.77e-04]\n",
      " [-1.04e+00 -2.77e-04]\n",
      " [-1.02e+00 -2.76e-04]\n",
      " [-1.00e+00 -2.76e-04]\n",
      " [-9.80e-01 -2.76e-04]\n",
      " [-9.60e-01 -2.76e-04]\n",
      " [-9.40e-01 -2.76e-04]\n",
      " [-9.20e-01 -2.76e-04]\n",
      " [-9.00e-01 -2.75e-04]\n",
      " [-8.80e-01 -2.75e-04]\n",
      " [-8.60e-01 -2.75e-04]\n",
      " [-8.40e-01 -2.75e-04]\n",
      " [-8.20e-01 -2.75e-04]\n",
      " [-8.00e-01 -2.74e-04]\n",
      " [-7.80e-01 -2.74e-04]\n",
      " [-7.60e-01 -2.74e-04]\n",
      " [-7.40e-01 -2.74e-04]\n",
      " [-7.20e-01 -2.74e-04]\n",
      " [-7.00e-01 -2.73e-04]\n",
      " [-6.80e-01 -2.73e-04]\n",
      " [-6.60e-01 -2.73e-04]\n",
      " [-6.40e-01 -2.73e-04]\n",
      " [-6.20e-01 -2.73e-04]\n",
      " [-6.00e-01 -2.72e-04]\n",
      " [-5.80e-01 -2.72e-04]\n",
      " [-5.60e-01 -2.72e-04]\n",
      " [-5.40e-01 -2.72e-04]\n",
      " [-5.20e-01 -2.71e-04]\n",
      " [-5.00e-01 -2.71e-04]\n",
      " [-4.80e-01 -2.71e-04]\n",
      " [-4.60e-01 -2.71e-04]\n",
      " [-4.40e-01 -2.70e-04]\n",
      " [-4.20e-01 -2.70e-04]\n",
      " [-4.00e-01 -2.70e-04]\n",
      " [-3.80e-01 -2.70e-04]\n",
      " [-3.60e-01 -2.69e-04]\n",
      " [-3.40e-01 -2.69e-04]\n",
      " [-3.20e-01 -2.69e-04]\n",
      " [-3.00e-01 -2.68e-04]\n",
      " [-2.80e-01 -2.68e-04]\n",
      " [-2.60e-01 -2.68e-04]\n",
      " [-2.40e-01 -2.68e-04]\n",
      " [-2.20e-01 -2.67e-04]\n",
      " [-2.00e-01 -2.67e-04]\n",
      " [-1.80e-01 -2.67e-04]\n",
      " [-1.60e-01 -2.66e-04]\n",
      " [-1.40e-01 -2.66e-04]\n",
      " [-1.20e-01 -2.66e-04]\n",
      " [-1.00e-01 -2.65e-04]\n",
      " [-8.00e-02 -2.65e-04]\n",
      " [-6.00e-02 -2.65e-04]\n",
      " [-4.00e-02 -2.64e-04]\n",
      " [-2.00e-02 -2.64e-04]\n",
      " [ 0.00e+00 -2.64e-04]\n",
      " [ 2.00e-02 -2.63e-04]\n",
      " [ 4.00e-02 -2.63e-04]\n",
      " [ 6.00e-02 -2.62e-04]\n",
      " [ 8.00e-02 -2.62e-04]\n",
      " [ 1.00e-01 -2.62e-04]\n",
      " [ 1.20e-01 -2.61e-04]\n",
      " [ 1.40e-01 -2.61e-04]\n",
      " [ 1.60e-01 -2.60e-04]\n",
      " [ 1.80e-01 -2.60e-04]\n",
      " [ 2.00e-01 -2.59e-04]\n",
      " [ 2.20e-01 -2.59e-04]\n",
      " [ 2.40e-01 -2.58e-04]\n",
      " [ 2.60e-01 -2.58e-04]\n",
      " [ 2.80e-01 -2.57e-04]\n",
      " [ 3.00e-01 -2.56e-04]\n",
      " [ 3.20e-01 -2.56e-04]\n",
      " [ 3.40e-01 -2.55e-04]\n",
      " [ 3.60e-01 -2.55e-04]\n",
      " [ 3.80e-01 -2.54e-04]\n",
      " [ 4.00e-01 -2.53e-04]\n",
      " [ 4.20e-01 -2.53e-04]\n",
      " [ 4.40e-01 -2.52e-04]\n",
      " [ 4.60e-01 -2.51e-04]\n",
      " [ 4.80e-01 -2.50e-04]\n",
      " [ 5.00e-01 -2.50e-04]\n",
      " [ 5.20e-01 -2.49e-04]\n",
      " [ 5.40e-01 -2.48e-04]\n",
      " [ 5.60e-01 -2.47e-04]\n",
      " [ 5.80e-01 -2.46e-04]\n",
      " [ 6.00e-01 -2.45e-04]\n",
      " [ 6.20e-01 -2.44e-04]\n",
      " [ 6.40e-01 -2.44e-04]\n",
      " [ 6.60e-01 -2.43e-04]\n",
      " [ 6.80e-01 -2.42e-04]\n",
      " [ 7.00e-01 -2.40e-04]\n",
      " [ 7.20e-01 -2.39e-04]\n",
      " [ 7.40e-01 -2.38e-04]\n",
      " [ 7.60e-01 -2.37e-04]\n",
      " [ 7.80e-01 -2.36e-04]\n",
      " [ 8.00e-01 -2.35e-04]\n",
      " [ 8.20e-01 -2.34e-04]\n",
      " [ 8.40e-01 -2.32e-04]\n",
      " [ 8.60e-01 -2.31e-04]\n",
      " [ 8.80e-01 -2.30e-04]\n",
      " [ 9.00e-01 -2.28e-04]\n",
      " [ 9.20e-01 -2.27e-04]\n",
      " [ 9.40e-01 -2.25e-04]\n",
      " [ 9.60e-01 -2.24e-04]\n",
      " [ 9.80e-01 -2.22e-04]\n",
      " [ 1.00e+00 -2.21e-04]\n",
      " [ 1.02e+00 -2.19e-04]\n",
      " [ 1.04e+00 -2.17e-04]\n",
      " [ 1.06e+00 -2.15e-04]\n",
      " [ 1.08e+00 -2.14e-04]\n",
      " [ 1.10e+00 -2.12e-04]\n",
      " [ 1.12e+00 -2.10e-04]\n",
      " [ 1.14e+00 -2.08e-04]\n",
      " [ 1.16e+00 -2.06e-04]\n",
      " [ 1.18e+00 -2.03e-04]\n",
      " [ 1.20e+00 -2.01e-04]\n",
      " [ 1.22e+00 -1.99e-04]\n",
      " [ 1.24e+00 -1.97e-04]\n",
      " [ 1.26e+00 -1.94e-04]\n",
      " [ 1.28e+00 -1.92e-04]\n",
      " [ 1.30e+00 -1.89e-04]\n",
      " [ 1.32e+00 -1.87e-04]\n",
      " [ 1.34e+00 -1.84e-04]\n",
      " [ 1.36e+00 -1.81e-04]\n",
      " [ 1.38e+00 -1.78e-04]\n",
      " [ 1.40e+00 -1.75e-04]\n",
      " [ 1.42e+00 -1.72e-04]\n",
      " [ 1.44e+00 -1.69e-04]\n",
      " [ 1.46e+00 -1.66e-04]\n",
      " [ 1.48e+00 -1.63e-04]\n",
      " [ 1.50e+00 -1.60e-04]\n",
      " [ 1.52e+00 -1.56e-04]\n",
      " [ 1.54e+00 -1.53e-04]\n",
      " [ 1.56e+00 -1.49e-04]\n",
      " [ 1.58e+00 -1.45e-04]\n",
      " [ 1.60e+00 -1.41e-04]\n",
      " [ 1.62e+00 -1.37e-04]\n",
      " [ 1.64e+00 -1.33e-04]\n",
      " [ 1.66e+00 -1.29e-04]\n",
      " [ 1.68e+00 -1.25e-04]\n",
      " [ 1.70e+00 -1.20e-04]\n",
      " [ 1.72e+00 -1.16e-04]\n",
      " [ 1.74e+00 -1.11e-04]\n",
      " [ 1.76e+00 -1.06e-04]\n",
      " [ 1.78e+00 -1.01e-04]\n",
      " [ 1.80e+00 -9.66e-05]\n",
      " [ 1.82e+00 -9.14e-05]\n",
      " [ 1.84e+00 -8.63e-05]\n",
      " [ 1.86e+00 -8.11e-05]\n",
      " [ 1.88e+00 -7.58e-05]\n",
      " [ 1.90e+00 -7.04e-05]\n",
      " [ 1.92e+00 -6.49e-05]\n",
      " [ 1.94e+00 -5.93e-05]\n",
      " [ 1.96e+00 -5.38e-05]\n",
      " [ 1.98e+00 -4.82e-05]\n",
      " [ 2.00e+00 -4.27e-05]\n",
      " [ 2.02e+00 -3.73e-05]\n",
      " [ 2.04e+00 -3.19e-05]\n",
      " [ 2.06e+00 -2.68e-05]\n",
      " [ 2.08e+00 -2.18e-05]\n",
      " [ 2.10e+00 -1.73e-05]\n",
      " [ 2.12e+00 -1.32e-05]\n",
      " [ 2.14e+00 -9.68e-06]\n",
      " [ 2.16e+00 -6.79e-06]\n",
      " [ 2.18e+00 -4.55e-06]\n",
      " [ 2.20e+00 -2.94e-06]\n",
      " [ 2.22e+00 -1.83e-06]\n",
      " [ 2.24e+00 -1.12e-06]\n",
      " [ 2.26e+00 -6.84e-07]\n",
      " [ 2.28e+00 -4.17e-07]\n",
      " [ 2.30e+00 -2.53e-07]\n",
      " [ 2.32e+00 -1.55e-07]\n",
      " [ 2.34e+00 -9.55e-08]\n",
      " [ 2.36e+00 -5.88e-08]\n",
      " [ 2.38e+00 -3.64e-08]\n",
      " [ 2.40e+00 -2.25e-08]\n",
      " [ 2.42e+00 -1.38e-08]\n",
      " [ 2.44e+00 -8.37e-09]\n",
      " [ 2.46e+00 -4.91e-09]\n",
      " [ 2.48e+00 -2.74e-09]\n",
      " [ 2.50e+00 -1.35e-09]\n",
      " [ 2.52e+00 -4.74e-10]\n",
      " [ 2.54e+00  8.10e-11]\n",
      " [ 2.56e+00  4.43e-10]\n",
      " [ 2.58e+00  6.81e-10]\n",
      " [ 2.60e+00  8.45e-10]\n",
      " [ 2.62e+00  9.58e-10]\n",
      " [ 2.64e+00  1.04e-09]\n",
      " [ 2.66e+00  1.10e-09]\n",
      " [ 2.68e+00  1.15e-09]\n",
      " [ 2.70e+00  1.20e-09]\n",
      " [ 2.72e+00  1.23e-09]\n",
      " [ 2.74e+00  1.26e-09]\n",
      " [ 2.76e+00  1.29e-09]\n",
      " [ 2.78e+00  1.31e-09]\n",
      " [ 2.80e+00  1.34e-09]\n",
      " [ 2.82e+00  1.36e-09]\n",
      " [ 2.84e+00  1.37e-09]\n",
      " [ 2.86e+00  1.39e-09]\n",
      " [ 2.88e+00  1.41e-09]\n",
      " [ 2.90e+00  1.43e-09]\n",
      " [ 2.92e+00  1.44e-09]\n",
      " [ 2.94e+00  1.46e-09]\n",
      " [ 2.96e+00  1.48e-09]\n",
      " [ 2.98e+00  1.49e-09]\n",
      " [ 3.00e+00  1.50e-09]]\n"
     ]
    }
   ],
   "source": [
    "print(pvidL)"
   ]
  },
  {
   "cell_type": "code",
   "execution_count": 825,
   "metadata": {
    "scrolled": false
   },
   "outputs": [
    {
     "data": {
      "image/png": "[encoded data removed]",
      "text/plain": [
       "<Figure size 432x288 with 1 Axes>"
      ]
     },
     "metadata": {},
     "output_type": "display_data"
    }
   ],
   "source": [
    "plt.plot(pvidL_V,pvidL_Jsingle,'g')                     #using cm^2\n",
    "plt.style.use('dark_background')\n",
    "plt.xlabel('Voltage (V)'); plt.ylabel('Current Density (J)');\n",
    "plt.title('Current Density vs. Voltage of Single p-n Junction (indoor-light)')\n",
    "plt.grid(linewidth='0.5')\n",
    "plt.show()"
   ]
  },
  {
   "cell_type": "code",
   "execution_count": 826,
   "metadata": {
    "scrolled": true
   },
   "outputs": [
    {
     "data": {
      "image/png": "[encoded data removed]",
      "text/plain": [
       "<Figure size 432x288 with 1 Axes>"
      ]
     },
     "metadata": {},
     "output_type": "display_data"
    }
   ],
   "source": [
    "plt.plot(pvidL_V,pvidL_JTotA,'r')              #using the m^2 converted area\n",
    "plt.style.use('dark_background')\n",
    "plt.xlabel('Voltage (V)'); plt.ylabel('Current Density (J)');\n",
    "plt.title('Current Density vs. Voltage of Total Active Area (indoor-light)')\n",
    "plt.grid(linewidth='0.5')\n",
    "plt.show()"
   ]
  },
  {
   "cell_type": "code",
   "execution_count": 827,
   "metadata": {},
   "outputs": [
    {
     "data": {
      "image/png": "[encoded data removed]",
      "text/plain": [
       "<Figure size 720x432 with 1 Axes>"
      ]
     },
     "metadata": {},
     "output_type": "display_data"
    }
   ],
   "source": [
    "plt.figure(figsize=(10,6))\n",
    "plt.plot(pvidL_V,pvidL_JTotA,'r',label='J total area')\n",
    "plt.plot(pvidL_V,pvidL_Jsingle,'g', label ='J single p-n')\n",
    "plt.legend()\n",
    "plt.grid(linewidth='0.5')\n",
    "plt.show()"
   ]
  },
  {
   "cell_type": "markdown",
   "metadata": {},
   "source": [
    "#    Indoor-No Light"
   ]
  },
  {
   "cell_type": "code",
   "execution_count": 828,
   "metadata": {},
   "outputs": [],
   "source": [
    "pvidNL = np.loadtxt('PV_indoor_nolight.csv',delimiter=',') #col 1 is volt  col 2 is current"
   ]
  },
  {
   "cell_type": "code",
   "execution_count": 829,
   "metadata": {},
   "outputs": [
    {
     "name": "stdout",
     "output_type": "stream",
     "text": [
      "[[-3.00e+00 -1.76e-05]\n",
      " [-2.98e+00 -1.75e-05]\n",
      " [-2.96e+00 -1.73e-05]\n",
      " [-2.94e+00 -1.72e-05]\n",
      " [-2.92e+00 -1.71e-05]\n",
      " [-2.90e+00 -1.70e-05]\n",
      " [-2.88e+00 -1.69e-05]\n",
      " [-2.86e+00 -1.68e-05]\n",
      " [-2.84e+00 -1.67e-05]\n",
      " [-2.82e+00 -1.66e-05]\n",
      " [-2.80e+00 -1.65e-05]\n",
      " [-2.78e+00 -1.64e-05]\n",
      " [-2.76e+00 -1.63e-05]\n",
      " [-2.74e+00 -1.62e-05]\n",
      " [-2.72e+00 -1.61e-05]\n",
      " [-2.70e+00 -1.59e-05]\n",
      " [-2.68e+00 -1.58e-05]\n",
      " [-2.66e+00 -1.57e-05]\n",
      " [-2.64e+00 -1.56e-05]\n",
      " [-2.62e+00 -1.55e-05]\n",
      " [-2.60e+00 -1.54e-05]\n",
      " [-2.58e+00 -1.53e-05]\n",
      " [-2.56e+00 -1.52e-05]\n",
      " [-2.54e+00 -1.51e-05]\n",
      " [-2.52e+00 -1.50e-05]\n",
      " [-2.50e+00 -1.49e-05]\n",
      " [-2.48e+00 -1.48e-05]\n",
      " [-2.46e+00 -1.47e-05]\n",
      " [-2.44e+00 -1.46e-05]\n",
      " [-2.42e+00 -1.45e-05]\n",
      " [-2.40e+00 -1.43e-05]\n",
      " [-2.38e+00 -1.42e-05]\n",
      " [-2.36e+00 -1.41e-05]\n",
      " [-2.34e+00 -1.40e-05]\n",
      " [-2.32e+00 -1.39e-05]\n",
      " [-2.30e+00 -1.38e-05]\n",
      " [-2.28e+00 -1.37e-05]\n",
      " [-2.26e+00 -1.36e-05]\n",
      " [-2.24e+00 -1.35e-05]\n",
      " [-2.22e+00 -1.34e-05]\n",
      " [-2.20e+00 -1.33e-05]\n",
      " [-2.18e+00 -1.31e-05]\n",
      " [-2.16e+00 -1.30e-05]\n",
      " [-2.14e+00 -1.29e-05]\n",
      " [-2.12e+00 -1.28e-05]\n",
      " [-2.10e+00 -1.27e-05]\n",
      " [-2.08e+00 -1.26e-05]\n",
      " [-2.06e+00 -1.25e-05]\n",
      " [-2.04e+00 -1.24e-05]\n",
      " [-2.02e+00 -1.23e-05]\n",
      " [-2.00e+00 -1.21e-05]\n",
      " [-1.98e+00 -1.20e-05]\n",
      " [-1.96e+00 -1.19e-05]\n",
      " [-1.94e+00 -1.18e-05]\n",
      " [-1.92e+00 -1.17e-05]\n",
      " [-1.90e+00 -1.16e-05]\n",
      " [-1.88e+00 -1.15e-05]\n",
      " [-1.86e+00 -1.14e-05]\n",
      " [-1.84e+00 -1.12e-05]\n",
      " [-1.82e+00 -1.11e-05]\n",
      " [-1.80e+00 -1.10e-05]\n",
      " [-1.78e+00 -1.09e-05]\n",
      " [-1.76e+00 -1.08e-05]\n",
      " [-1.74e+00 -1.07e-05]\n",
      " [-1.72e+00 -1.06e-05]\n",
      " [-1.70e+00 -1.04e-05]\n",
      " [-1.68e+00 -1.03e-05]\n",
      " [-1.66e+00 -1.02e-05]\n",
      " [-1.64e+00 -1.01e-05]\n",
      " [-1.62e+00 -9.97e-06]\n",
      " [-1.60e+00 -9.85e-06]\n",
      " [-1.58e+00 -9.73e-06]\n",
      " [-1.56e+00 -9.61e-06]\n",
      " [-1.54e+00 -9.49e-06]\n",
      " [-1.52e+00 -9.37e-06]\n",
      " [-1.50e+00 -9.25e-06]\n",
      " [-1.48e+00 -9.13e-06]\n",
      " [-1.46e+00 -9.01e-06]\n",
      " [-1.44e+00 -8.89e-06]\n",
      " [-1.42e+00 -8.77e-06]\n",
      " [-1.40e+00 -8.64e-06]\n",
      " [-1.38e+00 -8.52e-06]\n",
      " [-1.36e+00 -8.40e-06]\n",
      " [-1.34e+00 -8.27e-06]\n",
      " [-1.32e+00 -8.15e-06]\n",
      " [-1.30e+00 -8.02e-06]\n",
      " [-1.28e+00 -7.89e-06]\n",
      " [-1.26e+00 -7.77e-06]\n",
      " [-1.24e+00 -7.64e-06]\n",
      " [-1.22e+00 -7.51e-06]\n",
      " [-1.20e+00 -7.38e-06]\n",
      " [-1.18e+00 -7.25e-06]\n",
      " [-1.16e+00 -7.12e-06]\n",
      " [-1.14e+00 -6.99e-06]\n",
      " [-1.12e+00 -6.86e-06]\n",
      " [-1.10e+00 -6.72e-06]\n",
      " [-1.08e+00 -6.59e-06]\n",
      " [-1.06e+00 -6.46e-06]\n",
      " [-1.04e+00 -6.32e-06]\n",
      " [-1.02e+00 -6.19e-06]\n",
      " [-1.00e+00 -6.05e-06]\n",
      " [-9.80e-01 -5.91e-06]\n",
      " [-9.60e-01 -5.77e-06]\n",
      " [-9.40e-01 -5.63e-06]\n",
      " [-9.20e-01 -5.49e-06]\n",
      " [-9.00e-01 -5.34e-06]\n",
      " [-8.80e-01 -5.20e-06]\n",
      " [-8.60e-01 -5.06e-06]\n",
      " [-8.40e-01 -4.91e-06]\n",
      " [-8.20e-01 -4.76e-06]\n",
      " [-8.00e-01 -4.61e-06]\n",
      " [-7.80e-01 -4.46e-06]\n",
      " [-7.60e-01 -4.31e-06]\n",
      " [-7.40e-01 -4.16e-06]\n",
      " [-7.20e-01 -4.01e-06]\n",
      " [-7.00e-01 -3.85e-06]\n",
      " [-6.80e-01 -3.70e-06]\n",
      " [-6.60e-01 -3.54e-06]\n",
      " [-6.40e-01 -3.38e-06]\n",
      " [-6.20e-01 -3.23e-06]\n",
      " [-6.00e-01 -3.07e-06]\n",
      " [-5.80e-01 -2.90e-06]\n",
      " [-5.60e-01 -2.74e-06]\n",
      " [-5.40e-01 -2.58e-06]\n",
      " [-5.20e-01 -2.42e-06]\n",
      " [-5.00e-01 -2.25e-06]\n",
      " [-4.80e-01 -2.09e-06]\n",
      " [-4.60e-01 -1.92e-06]\n",
      " [-4.40e-01 -1.76e-06]\n",
      " [-4.20e-01 -1.60e-06]\n",
      " [-4.00e-01 -1.44e-06]\n",
      " [-3.80e-01 -1.28e-06]\n",
      " [-3.60e-01 -1.12e-06]\n",
      " [-3.40e-01 -9.70e-07]\n",
      " [-3.20e-01 -8.22e-07]\n",
      " [-3.00e-01 -6.83e-07]\n",
      " [-2.80e-01 -5.54e-07]\n",
      " [-2.60e-01 -4.36e-07]\n",
      " [-2.40e-01 -3.32e-07]\n",
      " [-2.20e-01 -2.45e-07]\n",
      " [-2.00e-01 -1.74e-07]\n",
      " [-1.80e-01 -1.20e-07]\n",
      " [-1.60e-01 -8.02e-08]\n",
      " [-1.40e-01 -5.25e-08]\n",
      " [-1.20e-01 -3.38e-08]\n",
      " [-1.00e-01 -2.15e-08]\n",
      " [-8.00e-02 -1.35e-08]\n",
      " [-6.00e-02 -8.30e-09]\n",
      " [-4.00e-02 -4.97e-09]\n",
      " [-2.00e-02 -2.85e-09]\n",
      " [ 0.00e+00 -1.49e-09]\n",
      " [ 2.00e-02 -6.23e-10]\n",
      " [ 4.00e-02 -6.50e-11]\n",
      " [ 6.00e-02  2.97e-10]\n",
      " [ 8.00e-02  5.36e-10]\n",
      " [ 1.00e-01  6.98e-10]\n",
      " [ 1.20e-01  8.12e-10]\n",
      " [ 1.40e-01  8.97e-10]\n",
      " [ 1.60e-01  9.62e-10]\n",
      " [ 1.80e-01  1.01e-09]\n",
      " [ 2.00e-01  1.06e-09]\n",
      " [ 2.20e-01  1.09e-09]\n",
      " [ 2.40e-01  1.12e-09]\n",
      " [ 2.60e-01  1.15e-09]\n",
      " [ 2.80e-01  1.18e-09]\n",
      " [ 3.00e-01  1.20e-09]\n",
      " [ 3.20e-01  1.22e-09]\n",
      " [ 3.40e-01  1.24e-09]\n",
      " [ 3.60e-01  1.26e-09]\n",
      " [ 3.80e-01  1.28e-09]\n",
      " [ 4.00e-01  1.29e-09]\n",
      " [ 4.20e-01  1.31e-09]\n",
      " [ 4.40e-01  1.32e-09]\n",
      " [ 4.60e-01  1.34e-09]\n",
      " [ 4.80e-01  1.35e-09]\n",
      " [ 5.00e-01  1.37e-09]\n",
      " [ 5.20e-01  1.38e-09]\n",
      " [ 5.40e-01  1.39e-09]\n",
      " [ 5.60e-01  1.40e-09]\n",
      " [ 5.80e-01  1.42e-09]\n",
      " [ 6.00e-01  1.43e-09]\n",
      " [ 6.20e-01  1.44e-09]\n",
      " [ 6.40e-01  1.45e-09]\n",
      " [ 6.60e-01  1.46e-09]\n",
      " [ 6.80e-01  1.48e-09]\n",
      " [ 7.00e-01  1.49e-09]\n",
      " [ 7.20e-01  1.50e-09]\n",
      " [ 7.40e-01  1.51e-09]\n",
      " [ 7.60e-01  1.52e-09]\n",
      " [ 7.80e-01  1.53e-09]\n",
      " [ 8.00e-01  1.54e-09]\n",
      " [ 8.20e-01  1.55e-09]\n",
      " [ 8.40e-01  1.56e-09]\n",
      " [ 8.60e-01  1.57e-09]\n",
      " [ 8.80e-01  1.58e-09]\n",
      " [ 9.00e-01  1.59e-09]\n",
      " [ 9.20e-01  1.60e-09]\n",
      " [ 9.40e-01  1.61e-09]\n",
      " [ 9.60e-01  1.62e-09]\n",
      " [ 9.80e-01  1.62e-09]\n",
      " [ 1.00e+00  1.63e-09]\n",
      " [ 1.02e+00  1.64e-09]\n",
      " [ 1.04e+00  1.65e-09]\n",
      " [ 1.06e+00  1.66e-09]\n",
      " [ 1.08e+00  1.67e-09]\n",
      " [ 1.10e+00  1.68e-09]\n",
      " [ 1.12e+00  1.68e-09]\n",
      " [ 1.14e+00  1.69e-09]\n",
      " [ 1.16e+00  1.70e-09]\n",
      " [ 1.18e+00  1.71e-09]\n",
      " [ 1.20e+00  1.72e-09]\n",
      " [ 1.22e+00  1.73e-09]\n",
      " [ 1.24e+00  1.73e-09]\n",
      " [ 1.26e+00  1.74e-09]\n",
      " [ 1.28e+00  1.75e-09]\n",
      " [ 1.30e+00  1.75e-09]\n",
      " [ 1.32e+00  1.76e-09]\n",
      " [ 1.34e+00  1.77e-09]\n",
      " [ 1.36e+00  1.77e-09]\n",
      " [ 1.38e+00  1.78e-09]\n",
      " [ 1.40e+00  1.79e-09]\n",
      " [ 1.42e+00  1.80e-09]\n",
      " [ 1.44e+00  1.81e-09]\n",
      " [ 1.46e+00  1.82e-09]\n",
      " [ 1.48e+00  1.82e-09]\n",
      " [ 1.50e+00  1.83e-09]\n",
      " [ 1.52e+00  1.83e-09]\n",
      " [ 1.54e+00  1.84e-09]\n",
      " [ 1.56e+00  1.85e-09]\n",
      " [ 1.58e+00  1.85e-09]\n",
      " [ 1.60e+00  1.86e-09]\n",
      " [ 1.62e+00  1.87e-09]\n",
      " [ 1.64e+00  1.87e-09]\n",
      " [ 1.66e+00  1.88e-09]\n",
      " [ 1.68e+00  1.89e-09]\n",
      " [ 1.70e+00  1.89e-09]\n",
      " [ 1.72e+00  1.90e-09]\n",
      " [ 1.74e+00  1.91e-09]\n",
      " [ 1.76e+00  1.91e-09]\n",
      " [ 1.78e+00  1.92e-09]\n",
      " [ 1.80e+00  1.93e-09]\n",
      " [ 1.82e+00  1.93e-09]\n",
      " [ 1.84e+00  1.94e-09]\n",
      " [ 1.86e+00  1.94e-09]\n",
      " [ 1.88e+00  1.95e-09]\n",
      " [ 1.90e+00  1.96e-09]\n",
      " [ 1.92e+00  1.96e-09]\n",
      " [ 1.94e+00  1.97e-09]\n",
      " [ 1.96e+00  1.98e-09]\n",
      " [ 1.98e+00  1.98e-09]\n",
      " [ 2.00e+00  1.99e-09]\n",
      " [ 2.02e+00  1.99e-09]\n",
      " [ 2.04e+00  2.00e-09]\n",
      " [ 2.06e+00  2.00e-09]\n",
      " [ 2.08e+00  2.01e-09]\n",
      " [ 2.10e+00  2.02e-09]\n",
      " [ 2.12e+00  2.02e-09]\n",
      " [ 2.14e+00  2.03e-09]\n",
      " [ 2.16e+00  2.03e-09]\n",
      " [ 2.18e+00  2.04e-09]\n",
      " [ 2.20e+00  2.05e-09]\n",
      " [ 2.22e+00  2.05e-09]\n",
      " [ 2.24e+00  2.06e-09]\n",
      " [ 2.26e+00  2.06e-09]\n",
      " [ 2.28e+00  2.07e-09]\n",
      " [ 2.30e+00  2.07e-09]\n",
      " [ 2.32e+00  2.08e-09]\n",
      " [ 2.34e+00  2.08e-09]\n",
      " [ 2.36e+00  2.09e-09]\n",
      " [ 2.38e+00  2.10e-09]\n",
      " [ 2.40e+00  2.10e-09]\n",
      " [ 2.42e+00  2.11e-09]\n",
      " [ 2.44e+00  2.11e-09]\n",
      " [ 2.46e+00  2.11e-09]\n",
      " [ 2.48e+00  2.12e-09]\n",
      " [ 2.50e+00  2.12e-09]\n",
      " [ 2.52e+00  2.13e-09]\n",
      " [ 2.54e+00  2.13e-09]\n",
      " [ 2.56e+00  2.14e-09]\n",
      " [ 2.58e+00  2.14e-09]\n",
      " [ 2.60e+00  2.15e-09]\n",
      " [ 2.62e+00  2.15e-09]\n",
      " [ 2.64e+00  2.16e-09]\n",
      " [ 2.66e+00  2.16e-09]\n",
      " [ 2.68e+00  2.17e-09]\n",
      " [ 2.70e+00  2.17e-09]\n",
      " [ 2.72e+00  2.18e-09]\n",
      " [ 2.74e+00  2.18e-09]\n",
      " [ 2.76e+00  2.19e-09]\n",
      " [ 2.78e+00  2.19e-09]\n",
      " [ 2.80e+00  2.19e-09]\n",
      " [ 2.82e+00  2.20e-09]\n",
      " [ 2.84e+00  2.20e-09]\n",
      " [ 2.86e+00  2.21e-09]\n",
      " [ 2.88e+00  2.22e-09]\n",
      " [ 2.90e+00  2.22e-09]\n",
      " [ 2.92e+00  2.23e-09]\n",
      " [ 2.94e+00  2.23e-09]\n",
      " [ 2.96e+00  2.23e-09]\n",
      " [ 2.98e+00  2.24e-09]\n",
      " [ 3.00e+00  2.24e-09]]\n"
     ]
    }
   ],
   "source": [
    "print(pvidNL)"
   ]
  },
  {
   "cell_type": "code",
   "execution_count": 830,
   "metadata": {},
   "outputs": [],
   "source": [
    "pvidNL_V = pvidNL[:,0]\n",
    "pvidNL_C = pvidNL[:,1]"
   ]
  },
  {
   "cell_type": "code",
   "execution_count": 831,
   "metadata": {},
   "outputs": [],
   "source": [
    "pvidNL_Jsingle = pvidNL_C/pvid_singleA  #single pn current density\n",
    "pvidNL_JTotA = pvidNL_C/pvid_TotA   #total active area current density cm^2\n",
    "pvidNL_JTotA_m = pvidNL_C/pvid_TotA_m    #using m^2"
   ]
  },
  {
   "cell_type": "code",
   "execution_count": 832,
   "metadata": {},
   "outputs": [
    {
     "name": "stdout",
     "output_type": "stream",
     "text": [
      "[[-3.00e+00 -1.76e-05]\n",
      " [-2.98e+00 -1.75e-05]\n",
      " [-2.96e+00 -1.73e-05]\n",
      " [-2.94e+00 -1.72e-05]\n",
      " [-2.92e+00 -1.71e-05]\n",
      " [-2.90e+00 -1.70e-05]\n",
      " [-2.88e+00 -1.69e-05]\n",
      " [-2.86e+00 -1.68e-05]\n",
      " [-2.84e+00 -1.67e-05]\n",
      " [-2.82e+00 -1.66e-05]\n",
      " [-2.80e+00 -1.65e-05]\n",
      " [-2.78e+00 -1.64e-05]\n",
      " [-2.76e+00 -1.63e-05]\n",
      " [-2.74e+00 -1.62e-05]\n",
      " [-2.72e+00 -1.61e-05]\n",
      " [-2.70e+00 -1.59e-05]\n",
      " [-2.68e+00 -1.58e-05]\n",
      " [-2.66e+00 -1.57e-05]\n",
      " [-2.64e+00 -1.56e-05]\n",
      " [-2.62e+00 -1.55e-05]\n",
      " [-2.60e+00 -1.54e-05]\n",
      " [-2.58e+00 -1.53e-05]\n",
      " [-2.56e+00 -1.52e-05]\n",
      " [-2.54e+00 -1.51e-05]\n",
      " [-2.52e+00 -1.50e-05]\n",
      " [-2.50e+00 -1.49e-05]\n",
      " [-2.48e+00 -1.48e-05]\n",
      " [-2.46e+00 -1.47e-05]\n",
      " [-2.44e+00 -1.46e-05]\n",
      " [-2.42e+00 -1.45e-05]\n",
      " [-2.40e+00 -1.43e-05]\n",
      " [-2.38e+00 -1.42e-05]\n",
      " [-2.36e+00 -1.41e-05]\n",
      " [-2.34e+00 -1.40e-05]\n",
      " [-2.32e+00 -1.39e-05]\n",
      " [-2.30e+00 -1.38e-05]\n",
      " [-2.28e+00 -1.37e-05]\n",
      " [-2.26e+00 -1.36e-05]\n",
      " [-2.24e+00 -1.35e-05]\n",
      " [-2.22e+00 -1.34e-05]\n",
      " [-2.20e+00 -1.33e-05]\n",
      " [-2.18e+00 -1.31e-05]\n",
      " [-2.16e+00 -1.30e-05]\n",
      " [-2.14e+00 -1.29e-05]\n",
      " [-2.12e+00 -1.28e-05]\n",
      " [-2.10e+00 -1.27e-05]\n",
      " [-2.08e+00 -1.26e-05]\n",
      " [-2.06e+00 -1.25e-05]\n",
      " [-2.04e+00 -1.24e-05]\n",
      " [-2.02e+00 -1.23e-05]\n",
      " [-2.00e+00 -1.21e-05]\n",
      " [-1.98e+00 -1.20e-05]\n",
      " [-1.96e+00 -1.19e-05]\n",
      " [-1.94e+00 -1.18e-05]\n",
      " [-1.92e+00 -1.17e-05]\n",
      " [-1.90e+00 -1.16e-05]\n",
      " [-1.88e+00 -1.15e-05]\n",
      " [-1.86e+00 -1.14e-05]\n",
      " [-1.84e+00 -1.12e-05]\n",
      " [-1.82e+00 -1.11e-05]\n",
      " [-1.80e+00 -1.10e-05]\n",
      " [-1.78e+00 -1.09e-05]\n",
      " [-1.76e+00 -1.08e-05]\n",
      " [-1.74e+00 -1.07e-05]\n",
      " [-1.72e+00 -1.06e-05]\n",
      " [-1.70e+00 -1.04e-05]\n",
      " [-1.68e+00 -1.03e-05]\n",
      " [-1.66e+00 -1.02e-05]\n",
      " [-1.64e+00 -1.01e-05]\n",
      " [-1.62e+00 -9.97e-06]\n",
      " [-1.60e+00 -9.85e-06]\n",
      " [-1.58e+00 -9.73e-06]\n",
      " [-1.56e+00 -9.61e-06]\n",
      " [-1.54e+00 -9.49e-06]\n",
      " [-1.52e+00 -9.37e-06]\n",
      " [-1.50e+00 -9.25e-06]\n",
      " [-1.48e+00 -9.13e-06]\n",
      " [-1.46e+00 -9.01e-06]\n",
      " [-1.44e+00 -8.89e-06]\n",
      " [-1.42e+00 -8.77e-06]\n",
      " [-1.40e+00 -8.64e-06]\n",
      " [-1.38e+00 -8.52e-06]\n",
      " [-1.36e+00 -8.40e-06]\n",
      " [-1.34e+00 -8.27e-06]\n",
      " [-1.32e+00 -8.15e-06]\n",
      " [-1.30e+00 -8.02e-06]\n",
      " [-1.28e+00 -7.89e-06]\n",
      " [-1.26e+00 -7.77e-06]\n",
      " [-1.24e+00 -7.64e-06]\n",
      " [-1.22e+00 -7.51e-06]\n",
      " [-1.20e+00 -7.38e-06]\n",
      " [-1.18e+00 -7.25e-06]\n",
      " [-1.16e+00 -7.12e-06]\n",
      " [-1.14e+00 -6.99e-06]\n",
      " [-1.12e+00 -6.86e-06]\n",
      " [-1.10e+00 -6.72e-06]\n",
      " [-1.08e+00 -6.59e-06]\n",
      " [-1.06e+00 -6.46e-06]\n",
      " [-1.04e+00 -6.32e-06]\n",
      " [-1.02e+00 -6.19e-06]\n",
      " [-1.00e+00 -6.05e-06]\n",
      " [-9.80e-01 -5.91e-06]\n",
      " [-9.60e-01 -5.77e-06]\n",
      " [-9.40e-01 -5.63e-06]\n",
      " [-9.20e-01 -5.49e-06]\n",
      " [-9.00e-01 -5.34e-06]\n",
      " [-8.80e-01 -5.20e-06]\n",
      " [-8.60e-01 -5.06e-06]\n",
      " [-8.40e-01 -4.91e-06]\n",
      " [-8.20e-01 -4.76e-06]\n",
      " [-8.00e-01 -4.61e-06]\n",
      " [-7.80e-01 -4.46e-06]\n",
      " [-7.60e-01 -4.31e-06]\n",
      " [-7.40e-01 -4.16e-06]\n",
      " [-7.20e-01 -4.01e-06]\n",
      " [-7.00e-01 -3.85e-06]\n",
      " [-6.80e-01 -3.70e-06]\n",
      " [-6.60e-01 -3.54e-06]\n",
      " [-6.40e-01 -3.38e-06]\n",
      " [-6.20e-01 -3.23e-06]\n",
      " [-6.00e-01 -3.07e-06]\n",
      " [-5.80e-01 -2.90e-06]\n",
      " [-5.60e-01 -2.74e-06]\n",
      " [-5.40e-01 -2.58e-06]\n",
      " [-5.20e-01 -2.42e-06]\n",
      " [-5.00e-01 -2.25e-06]\n",
      " [-4.80e-01 -2.09e-06]\n",
      " [-4.60e-01 -1.92e-06]\n",
      " [-4.40e-01 -1.76e-06]\n",
      " [-4.20e-01 -1.60e-06]\n",
      " [-4.00e-01 -1.44e-06]\n",
      " [-3.80e-01 -1.28e-06]\n",
      " [-3.60e-01 -1.12e-06]\n",
      " [-3.40e-01 -9.70e-07]\n",
      " [-3.20e-01 -8.22e-07]\n",
      " [-3.00e-01 -6.83e-07]\n",
      " [-2.80e-01 -5.54e-07]\n",
      " [-2.60e-01 -4.36e-07]\n",
      " [-2.40e-01 -3.32e-07]\n",
      " [-2.20e-01 -2.45e-07]\n",
      " [-2.00e-01 -1.74e-07]\n",
      " [-1.80e-01 -1.20e-07]\n",
      " [-1.60e-01 -8.02e-08]\n",
      " [-1.40e-01 -5.25e-08]\n",
      " [-1.20e-01 -3.38e-08]\n",
      " [-1.00e-01 -2.15e-08]\n",
      " [-8.00e-02 -1.35e-08]\n",
      " [-6.00e-02 -8.30e-09]\n",
      " [-4.00e-02 -4.97e-09]\n",
      " [-2.00e-02 -2.85e-09]\n",
      " [ 0.00e+00 -1.49e-09]\n",
      " [ 2.00e-02 -6.23e-10]\n",
      " [ 4.00e-02 -6.50e-11]\n",
      " [ 6.00e-02  2.97e-10]\n",
      " [ 8.00e-02  5.36e-10]\n",
      " [ 1.00e-01  6.98e-10]\n",
      " [ 1.20e-01  8.12e-10]\n",
      " [ 1.40e-01  8.97e-10]\n",
      " [ 1.60e-01  9.62e-10]\n",
      " [ 1.80e-01  1.01e-09]\n",
      " [ 2.00e-01  1.06e-09]\n",
      " [ 2.20e-01  1.09e-09]\n",
      " [ 2.40e-01  1.12e-09]\n",
      " [ 2.60e-01  1.15e-09]\n",
      " [ 2.80e-01  1.18e-09]\n",
      " [ 3.00e-01  1.20e-09]\n",
      " [ 3.20e-01  1.22e-09]\n",
      " [ 3.40e-01  1.24e-09]\n",
      " [ 3.60e-01  1.26e-09]\n",
      " [ 3.80e-01  1.28e-09]\n",
      " [ 4.00e-01  1.29e-09]\n",
      " [ 4.20e-01  1.31e-09]\n",
      " [ 4.40e-01  1.32e-09]\n",
      " [ 4.60e-01  1.34e-09]\n",
      " [ 4.80e-01  1.35e-09]\n",
      " [ 5.00e-01  1.37e-09]\n",
      " [ 5.20e-01  1.38e-09]\n",
      " [ 5.40e-01  1.39e-09]\n",
      " [ 5.60e-01  1.40e-09]\n",
      " [ 5.80e-01  1.42e-09]\n",
      " [ 6.00e-01  1.43e-09]\n",
      " [ 6.20e-01  1.44e-09]\n",
      " [ 6.40e-01  1.45e-09]\n",
      " [ 6.60e-01  1.46e-09]\n",
      " [ 6.80e-01  1.48e-09]\n",
      " [ 7.00e-01  1.49e-09]\n",
      " [ 7.20e-01  1.50e-09]\n",
      " [ 7.40e-01  1.51e-09]\n",
      " [ 7.60e-01  1.52e-09]\n",
      " [ 7.80e-01  1.53e-09]\n",
      " [ 8.00e-01  1.54e-09]\n",
      " [ 8.20e-01  1.55e-09]\n",
      " [ 8.40e-01  1.56e-09]\n",
      " [ 8.60e-01  1.57e-09]\n",
      " [ 8.80e-01  1.58e-09]\n",
      " [ 9.00e-01  1.59e-09]\n",
      " [ 9.20e-01  1.60e-09]\n",
      " [ 9.40e-01  1.61e-09]\n",
      " [ 9.60e-01  1.62e-09]\n",
      " [ 9.80e-01  1.62e-09]\n",
      " [ 1.00e+00  1.63e-09]\n",
      " [ 1.02e+00  1.64e-09]\n",
      " [ 1.04e+00  1.65e-09]\n",
      " [ 1.06e+00  1.66e-09]\n",
      " [ 1.08e+00  1.67e-09]\n",
      " [ 1.10e+00  1.68e-09]\n",
      " [ 1.12e+00  1.68e-09]\n",
      " [ 1.14e+00  1.69e-09]\n",
      " [ 1.16e+00  1.70e-09]\n",
      " [ 1.18e+00  1.71e-09]\n",
      " [ 1.20e+00  1.72e-09]\n",
      " [ 1.22e+00  1.73e-09]\n",
      " [ 1.24e+00  1.73e-09]\n",
      " [ 1.26e+00  1.74e-09]\n",
      " [ 1.28e+00  1.75e-09]\n",
      " [ 1.30e+00  1.75e-09]\n",
      " [ 1.32e+00  1.76e-09]\n",
      " [ 1.34e+00  1.77e-09]\n",
      " [ 1.36e+00  1.77e-09]\n",
      " [ 1.38e+00  1.78e-09]\n",
      " [ 1.40e+00  1.79e-09]\n",
      " [ 1.42e+00  1.80e-09]\n",
      " [ 1.44e+00  1.81e-09]\n",
      " [ 1.46e+00  1.82e-09]\n",
      " [ 1.48e+00  1.82e-09]\n",
      " [ 1.50e+00  1.83e-09]\n",
      " [ 1.52e+00  1.83e-09]\n",
      " [ 1.54e+00  1.84e-09]\n",
      " [ 1.56e+00  1.85e-09]\n",
      " [ 1.58e+00  1.85e-09]\n",
      " [ 1.60e+00  1.86e-09]\n",
      " [ 1.62e+00  1.87e-09]\n",
      " [ 1.64e+00  1.87e-09]\n",
      " [ 1.66e+00  1.88e-09]\n",
      " [ 1.68e+00  1.89e-09]\n",
      " [ 1.70e+00  1.89e-09]\n",
      " [ 1.72e+00  1.90e-09]\n",
      " [ 1.74e+00  1.91e-09]\n",
      " [ 1.76e+00  1.91e-09]\n",
      " [ 1.78e+00  1.92e-09]\n",
      " [ 1.80e+00  1.93e-09]\n",
      " [ 1.82e+00  1.93e-09]\n",
      " [ 1.84e+00  1.94e-09]\n",
      " [ 1.86e+00  1.94e-09]\n",
      " [ 1.88e+00  1.95e-09]\n",
      " [ 1.90e+00  1.96e-09]\n",
      " [ 1.92e+00  1.96e-09]\n",
      " [ 1.94e+00  1.97e-09]\n",
      " [ 1.96e+00  1.98e-09]\n",
      " [ 1.98e+00  1.98e-09]\n",
      " [ 2.00e+00  1.99e-09]\n",
      " [ 2.02e+00  1.99e-09]\n",
      " [ 2.04e+00  2.00e-09]\n",
      " [ 2.06e+00  2.00e-09]\n",
      " [ 2.08e+00  2.01e-09]\n",
      " [ 2.10e+00  2.02e-09]\n",
      " [ 2.12e+00  2.02e-09]\n",
      " [ 2.14e+00  2.03e-09]\n",
      " [ 2.16e+00  2.03e-09]\n",
      " [ 2.18e+00  2.04e-09]\n",
      " [ 2.20e+00  2.05e-09]\n",
      " [ 2.22e+00  2.05e-09]\n",
      " [ 2.24e+00  2.06e-09]\n",
      " [ 2.26e+00  2.06e-09]\n",
      " [ 2.28e+00  2.07e-09]\n",
      " [ 2.30e+00  2.07e-09]\n",
      " [ 2.32e+00  2.08e-09]\n",
      " [ 2.34e+00  2.08e-09]\n",
      " [ 2.36e+00  2.09e-09]\n",
      " [ 2.38e+00  2.10e-09]\n",
      " [ 2.40e+00  2.10e-09]\n",
      " [ 2.42e+00  2.11e-09]\n",
      " [ 2.44e+00  2.11e-09]\n",
      " [ 2.46e+00  2.11e-09]\n",
      " [ 2.48e+00  2.12e-09]\n",
      " [ 2.50e+00  2.12e-09]\n",
      " [ 2.52e+00  2.13e-09]\n",
      " [ 2.54e+00  2.13e-09]\n",
      " [ 2.56e+00  2.14e-09]\n",
      " [ 2.58e+00  2.14e-09]\n",
      " [ 2.60e+00  2.15e-09]\n",
      " [ 2.62e+00  2.15e-09]\n",
      " [ 2.64e+00  2.16e-09]\n",
      " [ 2.66e+00  2.16e-09]\n",
      " [ 2.68e+00  2.17e-09]\n",
      " [ 2.70e+00  2.17e-09]\n",
      " [ 2.72e+00  2.18e-09]\n",
      " [ 2.74e+00  2.18e-09]\n",
      " [ 2.76e+00  2.19e-09]\n",
      " [ 2.78e+00  2.19e-09]\n",
      " [ 2.80e+00  2.19e-09]\n",
      " [ 2.82e+00  2.20e-09]\n",
      " [ 2.84e+00  2.20e-09]\n",
      " [ 2.86e+00  2.21e-09]\n",
      " [ 2.88e+00  2.22e-09]\n",
      " [ 2.90e+00  2.22e-09]\n",
      " [ 2.92e+00  2.23e-09]\n",
      " [ 2.94e+00  2.23e-09]\n",
      " [ 2.96e+00  2.23e-09]\n",
      " [ 2.98e+00  2.24e-09]\n",
      " [ 3.00e+00  2.24e-09]]\n"
     ]
    }
   ],
   "source": [
    "print(pvidNL)"
   ]
  },
  {
   "cell_type": "code",
   "execution_count": 833,
   "metadata": {},
   "outputs": [
    {
     "data": {
      "image/png": "[encoded data removed]",
      "text/plain": [
       "<Figure size 432x288 with 1 Axes>"
      ]
     },
     "metadata": {},
     "output_type": "display_data"
    }
   ],
   "source": [
    "plt.plot(pvidNL_V,pvidNL_JTotA_m,'rx')\n",
    "plt.style.use('dark_background')\n",
    "plt.xlabel('Voltage (V)'); plt.ylabel('Current Density (J)');\n",
    "plt.title('Current Density vs. Voltage of Total Active Area (indoor-no light)')\n",
    "plt.grid(linewidth='0.5')"
   ]
  },
  {
   "cell_type": "markdown",
   "metadata": {},
   "source": [
    "##     Combo Plot Light vs Dark"
   ]
  },
  {
   "cell_type": "code",
   "execution_count": 834,
   "metadata": {},
   "outputs": [
    {
     "data": {
      "image/png": "[encoded data removed]",
      "text/plain": [
       "<Figure size 720x432 with 1 Axes>"
      ]
     },
     "metadata": {},
     "output_type": "display_data"
    }
   ],
   "source": [
    "plt.figure(figsize=(10,6))\n",
    "plt.plot(pvidL_V,pvidL_JTotA,'ro',label='J total area (light)')\n",
    "plt.plot(pvidNL_V,pvidNL_JTotA,'gx', label ='J total area(dark)')\n",
    "plt.xlabel('Voltage (V)'); plt.ylabel('Current Density (J)'); plt.title('Voltage  vs. Current Density (Light vs. Dark) of Total Active Area')\n",
    "plt.grid(linewidth='0.5')\n",
    "plt.legend()\n",
    "plt.show()\n"
   ]
  },
  {
   "cell_type": "markdown",
   "metadata": {},
   "source": [
    "##   Short Circuit Current Density"
   ]
  },
  {
   "cell_type": "code",
   "execution_count": 835,
   "metadata": {},
   "outputs": [
    {
     "name": "stdout",
     "output_type": "stream",
     "text": [
      "[-0.000264]\n"
     ]
    }
   ],
   "source": [
    "#find J when V=0   nolight V=0 = C=-0.00000000149, light V = 0, C = -0.000264\n",
    "#Find Short circuit current (When V = 0)\n",
    "pvidL_Csc = pvidL_C[pvidL_V==0]\n",
    "print(pvidL_Csc)"
   ]
  },
  {
   "cell_type": "code",
   "execution_count": 836,
   "metadata": {},
   "outputs": [
    {
     "name": "stdout",
     "output_type": "stream",
     "text": [
      "The short circuit density of the indoor light test is: \n",
      " [-0.03142857] amps per m^2 \n"
     ]
    }
   ],
   "source": [
    "pvidL_Jsc = pvidL_Csc/pvid_TotA_m            #total area short circuit density\n",
    "print('The short circuit density of the indoor light test is: \\n', pvidL_Jsc,'amps per m^2 ');"
   ]
  },
  {
   "cell_type": "markdown",
   "metadata": {},
   "source": [
    "## Open Circuit Voltage"
   ]
  },
  {
   "cell_type": "code",
   "execution_count": 837,
   "metadata": {},
   "outputs": [],
   "source": [
    "# find voltage when Current = O"
   ]
  },
  {
   "cell_type": "code",
   "execution_count": 838,
   "metadata": {},
   "outputs": [
    {
     "name": "stdout",
     "output_type": "stream",
     "text": [
      "[2.54]\n"
     ]
    }
   ],
   "source": [
    "zeroCval = 0.000000000081     #find point on spreadsheet where C=0 or approx 0\n",
    "pvidL_Voc = pvidL_V[pvidL_C==zeroCval ]    #from spreadsheet\n",
    "print(pvidL_Voc) "
   ]
  },
  {
   "cell_type": "markdown",
   "metadata": {},
   "source": [
    "## Max Power Density"
   ]
  },
  {
   "cell_type": "code",
   "execution_count": 839,
   "metadata": {},
   "outputs": [],
   "source": [
    "# Pd max = Vmax * J max "
   ]
  },
  {
   "cell_type": "code",
   "execution_count": 840,
   "metadata": {},
   "outputs": [
    {
     "name": "stdout",
     "output_type": "stream",
     "text": [
      "1.7857142857142858e-07\n",
      "3.0\n"
     ]
    }
   ],
   "source": [
    "print(max(pvidL_JTotA));\n",
    "print(max(pvidL_V))"
   ]
  },
  {
   "cell_type": "code",
   "execution_count": 841,
   "metadata": {},
   "outputs": [],
   "source": [
    "pvidL_Vmax = 1.15;      #both estimated visually from graph\n",
    "pvidL_Jmax = (-0.025);"
   ]
  },
  {
   "cell_type": "code",
   "execution_count": 842,
   "metadata": {},
   "outputs": [],
   "source": [
    "pvidL_Pmax = pvidL_Vmax*pvidL_Jmax"
   ]
  },
  {
   "cell_type": "code",
   "execution_count": 847,
   "metadata": {},
   "outputs": [
    {
     "name": "stdout",
     "output_type": "stream",
     "text": [
      "The max power density of the light indoor test is: \n",
      " -0.028749999999999998 Watts/m^2\n"
     ]
    }
   ],
   "source": [
    "print('The max power density of the light indoor test is: \\n', pvidL_Pmax, 'Watts/m^2')"
   ]
  },
  {
   "cell_type": "code",
   "execution_count": null,
   "metadata": {},
   "outputs": [],
   "source": []
  },
  {
   "cell_type": "markdown",
   "metadata": {},
   "source": [
    "##  Fill Factor Indoor\n"
   ]
  },
  {
   "cell_type": "code",
   "execution_count": 848,
   "metadata": {},
   "outputs": [],
   "source": [
    "#Fill factor = Pmax/ (Jsc * Voc) "
   ]
  },
  {
   "cell_type": "code",
   "execution_count": 849,
   "metadata": {},
   "outputs": [],
   "source": [
    "indoorFillFactor = pvidL_Pmax/(pvidL_Jsc*pvidL_Voc)"
   ]
  },
  {
   "cell_type": "code",
   "execution_count": 850,
   "metadata": {},
   "outputs": [
    {
     "name": "stdout",
     "output_type": "stream",
     "text": [
      "Indoor fill factor of the indoor light test using total activated area is: \n",
      " [36.0146743] %\n"
     ]
    }
   ],
   "source": [
    "print('Indoor fill factor of the indoor light test using total activated area is: \\n' ,  indoorFillFactor*100, '%')                #"
   ]
  },
  {
   "cell_type": "markdown",
   "metadata": {},
   "source": [
    "# PART 2"
   ]
  },
  {
   "cell_type": "markdown",
   "metadata": {},
   "source": [
    "## Outdoor"
   ]
  },
  {
   "cell_type": "code",
   "execution_count": 851,
   "metadata": {},
   "outputs": [],
   "source": [
    "pvod = np.loadtxt('PV_outdoor.csv',delimiter=',') #col 1 is volt  col 2 is current"
   ]
  },
  {
   "cell_type": "code",
   "execution_count": 852,
   "metadata": {},
   "outputs": [],
   "source": [
    "pvod_V = pvodL[:,0]\n",
    "pvod_C = pvodL[:,1]"
   ]
  },
  {
   "cell_type": "code",
   "execution_count": 853,
   "metadata": {},
   "outputs": [],
   "source": [
    "pvod_singleA = 8.4   #single p-n junction area (cm^2)\n",
    "pvod_TotA = 84      #total active area (cm^2)\n",
    "pvod_TotA_m = 0.0084     #total active area (m^2)"
   ]
  },
  {
   "cell_type": "code",
   "execution_count": 854,
   "metadata": {},
   "outputs": [],
   "source": [
    "pvod_Jsingle = pvod_C/pvod_singleA  #single pn current density\n",
    "pvod_JTotA = pvod_C/pvod_TotA_m     #total area current density "
   ]
  },
  {
   "cell_type": "code",
   "execution_count": 855,
   "metadata": {},
   "outputs": [
    {
     "data": {
      "image/png": "[encoded data removed]",
      "text/plain": [
       "<Figure size 1440x720 with 1 Axes>"
      ]
     },
     "metadata": {},
     "output_type": "display_data"
    }
   ],
   "source": [
    "sz=25 #size of labels and title\n",
    "plt.figure(figsize=(20,10))\n",
    "plt.plot(pvod_V,pvod_JTotA,'g')\n",
    "plt.style.use('dark_background')\n",
    "plt.xlabel('Voltage (V)',size=sz); plt.ylabel('Current Density (J)',size=sz);\n",
    "plt.title('Current Density vs. Voltage of Total Active Area (Outdoor)',size=sz*1.25)\n",
    "plt.grid(linewidth='0.5')\n",
    "plt.show()"
   ]
  },
  {
   "cell_type": "markdown",
   "metadata": {},
   "source": [
    "## Short Circuit Current Density"
   ]
  },
  {
   "cell_type": "code",
   "execution_count": 856,
   "metadata": {},
   "outputs": [],
   "source": [
    "#find J when V=0 C = -0.311"
   ]
  },
  {
   "cell_type": "code",
   "execution_count": 857,
   "metadata": {},
   "outputs": [
    {
     "name": "stdout",
     "output_type": "stream",
     "text": [
      "[-0.311]\n",
      "[-37.02380952]\n"
     ]
    }
   ],
   "source": [
    "pvod_Csc = pvod_C[pvod_V==0]\n",
    "print(pvod_Csc)                  #short circuit current\n",
    "pvod_Jsc = pvod_Csc/pvod_TotA_m  #total area short circuit density\n",
    "print(pvod_Jsc)"
   ]
  },
  {
   "cell_type": "code",
   "execution_count": 858,
   "metadata": {},
   "outputs": [
    {
     "name": "stdout",
     "output_type": "stream",
     "text": [
      "The short circuit density of the outdoor test is: \n",
      " [-37.02380952] amps per m^2 \n"
     ]
    }
   ],
   "source": [
    "print('The short circuit density of the outdoor test is: \\n', pvod_Jsc,'amps per m^2 ');"
   ]
  },
  {
   "cell_type": "markdown",
   "metadata": {},
   "source": [
    "## Open Circuit Voltage"
   ]
  },
  {
   "cell_type": "markdown",
   "metadata": {},
   "source": [
    "find voltage when Current = O"
   ]
  },
  {
   "cell_type": "code",
   "execution_count": 859,
   "metadata": {},
   "outputs": [],
   "source": [
    "pvod_Voc = 5.56             #from excel data"
   ]
  },
  {
   "cell_type": "code",
   "execution_count": 860,
   "metadata": {},
   "outputs": [
    {
     "name": "stdout",
     "output_type": "stream",
     "text": [
      "[5.56]\n"
     ]
    }
   ],
   "source": [
    "zeroCval2 = 0.000000000681   #find point on spreadsheet where C=0 or approx 0\n",
    "pvodL_Voc = pvodL_V[pvodL_C==zeroCval2 ]    #from spreadsheet\n",
    "print(pvodL_Voc) "
   ]
  },
  {
   "cell_type": "markdown",
   "metadata": {},
   "source": [
    "## Max Power Density"
   ]
  },
  {
   "cell_type": "markdown",
   "metadata": {},
   "source": [
    "Pd max = Vmax * J max "
   ]
  },
  {
   "cell_type": "code",
   "execution_count": 861,
   "metadata": {},
   "outputs": [],
   "source": [
    "pvod_Vmax = 3.25;      #both estimated visually from graph\n",
    "pvod_Jmax = (-30);"
   ]
  },
  {
   "cell_type": "code",
   "execution_count": 862,
   "metadata": {},
   "outputs": [
    {
     "name": "stdout",
     "output_type": "stream",
     "text": [
      "The max power density of the outdoor test is: \n",
      " -97.5 Watts/cm^2\n"
     ]
    }
   ],
   "source": [
    "pvod_Pmax = pvod_Vmax*pvod_Jmax;\n",
    "print('The max power density of the outdoor test is: \\n', pvod_Pmax, 'Watts/cm^2')"
   ]
  },
  {
   "cell_type": "markdown",
   "metadata": {},
   "source": [
    "## Fill Factor"
   ]
  },
  {
   "cell_type": "markdown",
   "metadata": {},
   "source": [
    "####   Fill factor = Pmax/ (Jsc * Voc) "
   ]
  },
  {
   "cell_type": "code",
   "execution_count": 863,
   "metadata": {},
   "outputs": [
    {
     "name": "stdout",
     "output_type": "stream",
     "text": [
      "Indoor fill factor of the outdoor test using total activated area is: \n",
      " [47.36403803] %\n"
     ]
    }
   ],
   "source": [
    "outdoorFillFactor = pvod_Pmax/(pvod_Jsc*pvod_Voc);\n",
    "print('Indoor fill factor of the outdoor test using total activated area is: \\n' ,  outdoorFillFactor*100, '%') "
   ]
  },
  {
   "cell_type": "markdown",
   "metadata": {},
   "source": [
    "## Solar Cell Efficiency"
   ]
  },
  {
   "cell_type": "markdown",
   "metadata": {},
   "source": [
    "### Energy Conversion Efficiency = (Voc Jsc FF)/(Pin)                    where Pin is the incident optical power "
   ]
  },
  {
   "cell_type": "code",
   "execution_count": 864,
   "metadata": {},
   "outputs": [],
   "source": [
    "pvod_Pin = 5.78 #at max   5.78 kwh/m^2/day"
   ]
  },
  {
   "cell_type": "code",
   "execution_count": 865,
   "metadata": {},
   "outputs": [],
   "source": [
    "ECE  = -(pvod_Voc*pvod_Jsc*outdoorFillFactor)/(pvod_Pin)"
   ]
  },
  {
   "cell_type": "code",
   "execution_count": 866,
   "metadata": {},
   "outputs": [
    {
     "name": "stdout",
     "output_type": "stream",
     "text": [
      "[16.86851211]\n"
     ]
    }
   ],
   "source": [
    "print(ECE)"
   ]
  },
  {
   "cell_type": "markdown",
   "metadata": {},
   "source": [
    "### EXTRA CREDIT 1: Find the estimated external quantum efficiency of this solar cell. You may need to check one of the references mentioned in the class, to figure out the density of incident photons of which energies are higher than the bandgap of silicon."
   ]
  },
  {
   "cell_type": "code",
   "execution_count": null,
   "metadata": {},
   "outputs": [],
   "source": []
  },
  {
   "cell_type": "markdown",
   "metadata": {},
   "source": [
    "# PART 3"
   ]
  },
  {
   "cell_type": "markdown",
   "metadata": {},
   "source": [
    "## Polycrystalline Silicon Solar Panel Design for a House"
   ]
  },
  {
   "cell_type": "markdown",
   "metadata": {},
   "source": [
    "### Based on the cell efficiency calculated from the experiment #2, you are designing a solar cell panel for your place at Davis, CA. You want to supply 100% of your electricity use from the solar panel. Estimate the size of the solar panel (area), considering the following factors:"
   ]
  },
  {
   "cell_type": "markdown",
   "metadata": {},
   "source": [
    "### a) The average electricity consumption for a US residential unit is ~ 11,000 kWh/year (US EIA)."
   ]
  },
  {
   "cell_type": "code",
   "execution_count": null,
   "metadata": {},
   "outputs": [],
   "source": []
  },
  {
   "cell_type": "markdown",
   "metadata": {},
   "source": [
    "### b) You are using a high-efficient (90%) rechargeable energy storage (Li-ion battery) as a backup power."
   ]
  },
  {
   "attachments": {},
   "cell_type": "markdown",
   "metadata": {},
   "source": [
    "### c) You are using a high-efficient (90%) inverter to switch the collected electricity from DC to AC power."
   ]
  },
  {
   "cell_type": "markdown",
   "metadata": {},
   "source": [
    "### d) The average number of the sunny days in Yolo County is 227 days (188 full, 78 partial (~50% cloudy on average)."
   ]
  },
  {
   "cell_type": "markdown",
   "metadata": {},
   "source": [
    "### e) The roof angle of your place (https://www.pole-barn.info/roof-pitch.html). If you are not sure, use 7/12 (30 degree)."
   ]
  },
  {
   "cell_type": "markdown",
   "metadata": {},
   "source": [
    "### f) Incident solar power throughout a year (https://www.pveducation.org/pvcdrom/properties-of-sunlight/calculation-of-solar-insolation), as a function of the latitude (38 degree for Davis, CA) and your roof angle (array tilt)."
   ]
  },
  {
   "cell_type": "markdown",
   "metadata": {},
   "source": [
    "### EXTRA CREDIT 2: Find the roof angle maximizing the solar cell efficiency (at Davis, CA)."
   ]
  },
  {
   "cell_type": "code",
   "execution_count": null,
   "metadata": {},
   "outputs": [],
   "source": []
  }
 ],
 "metadata": {
  "kernelspec": {
   "display_name": "Python 3",
   "language": "python",
   "name": "python3"
  },
  "language_info": {
   "codemirror_mode": {
    "name": "ipython",
    "version": 3
   },
   "file_extension": ".py",
   "mimetype": "text/x-python",
   "name": "python",
   "nbconvert_exporter": "python",
   "pygments_lexer": "ipython3",
   "version": "3.7.6"
  }
 },
 "nbformat": 4,
 "nbformat_minor": 4
}
